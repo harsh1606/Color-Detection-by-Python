{
 "cells": [
  {
   "cell_type": "code",
   "execution_count": 1,
   "metadata": {},
   "outputs": [
    {
     "name": "stdout",
     "output_type": "stream",
     "text": [
      "Enter the path of Image : colorpic.jpg\n"
     ]
    }
   ],
   "source": [
    "import cv2\n",
    "import numpy as np\n",
    "import pandas as pd\n",
    "\n",
    "#taking path of image from the user\n",
    "img_path = input(\"Enter the path of Image : \")\n",
    "img = cv2.imread(img_path)\n",
    "clicked = False\n",
    "r = 0\n",
    "g = 0\n",
    "b = 0\n",
    "x_position = 0\n",
    "y_position = 0\n",
    "\n",
    "#Reading csv file with pandas and giving names to each column\n",
    "index=[\"color\",\"color_name\",\"hex\",\"R\",\"G\",\"B\"]\n",
    "file = pd.read_csv('colors.csv', names=index, header=None)\n",
    "\n",
    "#function to calculate minimum distance from all colors and get the most matching color\n",
    "def Color_Name(R,G,B):\n",
    "    minimum = 9999\n",
    "    for i in range(len(file)):\n",
    "        A = abs(R- int(file.loc[i,\"R\"])) + abs(G- int(file.loc[i,\"G\"]))+ abs(B- int(file.loc[i,\"B\"]))\n",
    "        if(A <= minimum):\n",
    "            minimum = A\n",
    "            color_name = file.loc[i,\"color_name\"]\n",
    "    return color_name\n",
    "\n",
    "#function to get x,y coordinates of mouse double click\n",
    "def RBG_fun(event, x,y,flags,param):\n",
    "    if event == cv2.EVENT_LBUTTONDBLCLK:\n",
    "        global b,g,r,x_position,y_position, clicked\n",
    "        clicked = True\n",
    "        x_position = x\n",
    "        y_position = y\n",
    "        b,g,r = img[y,x]\n",
    "        b = int(b)\n",
    "        g = int(g)\n",
    "        r = int(r)\n",
    "       \n",
    "cv2.namedWindow('image')\n",
    "cv2.setMouseCallback('image',RBG_fun)\n",
    "\n",
    "while(True):\n",
    "\n",
    "    cv2.imshow(\"image\",img)\n",
    "    if (clicked):\n",
    "        #to show color name on the screen\n",
    "        cv2.rectangle(img,(25,25), (600,60), (b,g,r), -1)\n",
    "        text = Color_Name(r,g,b)   #getting color name \n",
    "        cv2.putText(img, text,(50,50),2,0.8,(255,255,255),2,cv2.LINE_AA)\n",
    "        \n",
    "        #we display black colour if colors are very light\n",
    "        if((r+g+b) >= 600):\n",
    "            cv2.putText(img, text,(50,50),2,0.8,(0,0,0),2,cv2.LINE_AA)\n",
    "            \n",
    "        clicked=False\n",
    "\n",
    "    #to exit,press ESC    \n",
    "    if cv2.waitKey(5) & 0xFF ==27:\n",
    "        break\n",
    "    \n",
    "cv2.destroyAllWindows()"
   ]
  },
  {
   "cell_type": "code",
   "execution_count": null,
   "metadata": {},
   "outputs": [],
   "source": []
  }
 ],
 "metadata": {
  "kernelspec": {
   "display_name": "Python 3",
   "language": "python",
   "name": "python3"
  },
  "language_info": {
   "codemirror_mode": {
    "name": "ipython",
    "version": 3
   },
   "file_extension": ".py",
   "mimetype": "text/x-python",
   "name": "python",
   "nbconvert_exporter": "python",
   "pygments_lexer": "ipython3",
   "version": "3.7.0"
  }
 },
 "nbformat": 4,
 "nbformat_minor": 2
}
